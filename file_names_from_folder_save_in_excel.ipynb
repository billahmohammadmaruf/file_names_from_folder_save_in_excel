{
 "cells": [
  {
   "cell_type": "markdown",
   "id": "3cbf6804",
   "metadata": {},
   "source": [
    "### File name with extension"
   ]
  },
  {
   "cell_type": "code",
   "execution_count": 1,
   "id": "9e09d224",
   "metadata": {},
   "outputs": [
    {
     "name": "stdout",
     "output_type": "stream",
     "text": [
      "File names have been saved to output_file.xlsx\n"
     ]
    }
   ],
   "source": [
    "import os\n",
    "import pandas as pd\n",
    "\n",
    "os.chdir(r'C:\\maruf_files\\file_name_folder')\n",
    "# Set the folder path\n",
    "folder_path = r\"C:\\maruf_files\\file_name_folder\\files\"\n",
    "\n",
    "# Get all files in the folder\n",
    "file_names = os.listdir(folder_path)\n",
    "\n",
    "# Create a DataFrame\n",
    "df = pd.DataFrame(file_names, columns=[\"File Names\"])\n",
    "\n",
    "# Save to Excel file\n",
    "output_path = \"output_file.xlsx\"\n",
    "df.to_excel(output_path, index=False)\n",
    "\n",
    "print(f\"File names have been saved to {output_path}\")\n"
   ]
  },
  {
   "cell_type": "markdown",
   "id": "444f09f8",
   "metadata": {},
   "source": [
    "### File name without extension"
   ]
  },
  {
   "cell_type": "code",
   "execution_count": 2,
   "id": "69ccf5f2",
   "metadata": {},
   "outputs": [
    {
     "name": "stdout",
     "output_type": "stream",
     "text": [
      "File names without extensions have been saved to output_file_without_extension.xlsx\n"
     ]
    }
   ],
   "source": [
    "import os\n",
    "import pandas as pd\n",
    "\n",
    "os.chdir(r'C:\\maruf_files\\file_name_folder')\n",
    "# Set the folder path\n",
    "folder_path = r\"C:\\maruf_files\\file_name_folder\\files\"\n",
    "\n",
    "# Function to remove the file extension\n",
    "def remove_extension(filename):\n",
    "    return os.path.splitext(filename)[0]\n",
    "\n",
    "# Get all files in the folder and remove their extensions\n",
    "file_names = [remove_extension(f) for f in os.listdir(folder_path) if os.path.isfile(os.path.join(folder_path, f))]\n",
    "\n",
    "# Create a DataFrame\n",
    "df = pd.DataFrame(file_names, columns=[\"File Names\"])\n",
    "\n",
    "# Save to Excel file\n",
    "output_path = \"output_file_without_extension.xlsx\"\n",
    "df.to_excel(output_path, index=False)\n",
    "\n",
    "print(f\"File names without extensions have been saved to {output_path}\")\n"
   ]
  },
  {
   "cell_type": "code",
   "execution_count": null,
   "id": "727fa4cf",
   "metadata": {},
   "outputs": [],
   "source": []
  }
 ],
 "metadata": {
  "kernelspec": {
   "display_name": "Python 3 (ipykernel)",
   "language": "python",
   "name": "python3"
  },
  "language_info": {
   "codemirror_mode": {
    "name": "ipython",
    "version": 3
   },
   "file_extension": ".py",
   "mimetype": "text/x-python",
   "name": "python",
   "nbconvert_exporter": "python",
   "pygments_lexer": "ipython3",
   "version": "3.9.12"
  }
 },
 "nbformat": 4,
 "nbformat_minor": 5
}
